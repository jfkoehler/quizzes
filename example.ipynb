{
 "cells": [
  {
   "cell_type": "code",
   "execution_count": 1,
   "metadata": {},
   "outputs": [],
   "source": [
    "%matplotlib inline\n",
    "import matplotlib.pyplot as plt\n",
    "import numpy as np\n",
    "import pandas as pd\n",
    "import seaborn as sns\n",
    "\n",
    "from sklearn.linear_model import LinearRegression"
   ]
  },
  {
   "cell_type": "code",
   "execution_count": 2,
   "metadata": {},
   "outputs": [],
   "source": [
    "df = pd.read_excel('BESTVAL.xls')"
   ]
  },
  {
   "cell_type": "code",
   "execution_count": 3,
   "metadata": {},
   "outputs": [
    {
     "data": {
      "text/html": [
       "<div>\n",
       "<style scoped>\n",
       "    .dataframe tbody tr th:only-of-type {\n",
       "        vertical-align: middle;\n",
       "    }\n",
       "\n",
       "    .dataframe tbody tr th {\n",
       "        vertical-align: top;\n",
       "    }\n",
       "\n",
       "    .dataframe thead th {\n",
       "        text-align: right;\n",
       "    }\n",
       "</style>\n",
       "<table border=\"1\" class=\"dataframe\">\n",
       "  <thead>\n",
       "    <tr style=\"text-align: right;\">\n",
       "      <th></th>\n",
       "      <th>Name</th>\n",
       "      <th>State</th>\n",
       "      <th>Admit</th>\n",
       "      <th>GradRate</th>\n",
       "      <th>TotalCostIn</th>\n",
       "      <th>InCostAid</th>\n",
       "      <th>TotalCostOut</th>\n",
       "      <th>OutCostAid</th>\n",
       "      <th>AveDebt</th>\n",
       "    </tr>\n",
       "  </thead>\n",
       "  <tbody>\n",
       "    <tr>\n",
       "      <th>0</th>\n",
       "      <td>University of Florida</td>\n",
       "      <td>FL</td>\n",
       "      <td>47</td>\n",
       "      <td>64</td>\n",
       "      <td>17233</td>\n",
       "      <td>10359</td>\n",
       "      <td>39511</td>\n",
       "      <td>32637</td>\n",
       "      <td>20708</td>\n",
       "    </tr>\n",
       "    <tr>\n",
       "      <th>1</th>\n",
       "      <td>University of California, Berkeley</td>\n",
       "      <td>CA</td>\n",
       "      <td>18</td>\n",
       "      <td>72</td>\n",
       "      <td>29640</td>\n",
       "      <td>6541</td>\n",
       "      <td>54270</td>\n",
       "      <td>31171</td>\n",
       "      <td>17468</td>\n",
       "    </tr>\n",
       "    <tr>\n",
       "      <th>2</th>\n",
       "      <td>University of Washington</td>\n",
       "      <td>WA</td>\n",
       "      <td>55</td>\n",
       "      <td>58</td>\n",
       "      <td>24433</td>\n",
       "      <td>10433</td>\n",
       "      <td>45552</td>\n",
       "      <td>31552</td>\n",
       "      <td>21263</td>\n",
       "    </tr>\n",
       "    <tr>\n",
       "      <th>3</th>\n",
       "      <td>North Carolina State University</td>\n",
       "      <td>NC</td>\n",
       "      <td>47</td>\n",
       "      <td>41</td>\n",
       "      <td>19402</td>\n",
       "      <td>9821</td>\n",
       "      <td>34657</td>\n",
       "      <td>25076</td>\n",
       "      <td>19530</td>\n",
       "    </tr>\n",
       "    <tr>\n",
       "      <th>4</th>\n",
       "      <td>The University of Texas at Austin</td>\n",
       "      <td>TX</td>\n",
       "      <td>40</td>\n",
       "      <td>51</td>\n",
       "      <td>22036</td>\n",
       "      <td>13323</td>\n",
       "      <td>47042</td>\n",
       "      <td>38329</td>\n",
       "      <td>25300</td>\n",
       "    </tr>\n",
       "  </tbody>\n",
       "</table>\n",
       "</div>"
      ],
      "text/plain": [
       "                                 Name State  Admit  GradRate  TotalCostIn  \\\n",
       "0               University of Florida    FL     47        64        17233   \n",
       "1  University of California, Berkeley    CA     18        72        29640   \n",
       "2            University of Washington    WA     55        58        24433   \n",
       "3     North Carolina State University    NC     47        41        19402   \n",
       "4   The University of Texas at Austin    TX     40        51        22036   \n",
       "\n",
       "   InCostAid  TotalCostOut  OutCostAid  AveDebt  \n",
       "0      10359         39511       32637    20708  \n",
       "1       6541         54270       31171    17468  \n",
       "2      10433         45552       31552    21263  \n",
       "3       9821         34657       25076    19530  \n",
       "4      13323         47042       38329    25300  "
      ]
     },
     "execution_count": 3,
     "metadata": {},
     "output_type": "execute_result"
    }
   ],
   "source": [
    "df.head()"
   ]
  },
  {
   "cell_type": "code",
   "execution_count": 4,
   "metadata": {},
   "outputs": [
    {
     "name": "stdout",
     "output_type": "stream",
     "text": [
      "<class 'pandas.core.frame.DataFrame'>\n",
      "RangeIndex: 25 entries, 0 to 24\n",
      "Data columns (total 9 columns):\n",
      " #   Column        Non-Null Count  Dtype \n",
      "---  ------        --------------  ----- \n",
      " 0   Name          25 non-null     object\n",
      " 1   State         25 non-null     object\n",
      " 2   Admit         25 non-null     int64 \n",
      " 3   GradRate      25 non-null     int64 \n",
      " 4   TotalCostIn   25 non-null     int64 \n",
      " 5   InCostAid     25 non-null     int64 \n",
      " 6   TotalCostOut  25 non-null     int64 \n",
      " 7   OutCostAid    25 non-null     int64 \n",
      " 8   AveDebt       25 non-null     int64 \n",
      "dtypes: int64(7), object(2)\n",
      "memory usage: 1.9+ KB\n"
     ]
    }
   ],
   "source": [
    "df.info()"
   ]
  },
  {
   "cell_type": "code",
   "execution_count": 5,
   "metadata": {},
   "outputs": [
    {
     "data": {
      "text/plain": [
       "<matplotlib.collections.PathCollection at 0x7ff75a6e2400>"
      ]
     },
     "execution_count": 5,
     "metadata": {},
     "output_type": "execute_result"
    },
    {
     "data": {
      "image/png": "[encoded data removed]",
      "text/plain": [
       "<Figure size 432x288 with 1 Axes>"
      ]
     },
     "metadata": {
      "needs_background": "light"
     },
     "output_type": "display_data"
    }
   ],
   "source": [
    "plt.scatter(df.InCostAid, df.AveDebt)"
   ]
  },
  {
   "cell_type": "code",
   "execution_count": null,
   "metadata": {},
   "outputs": [],
   "source": []
  },
  {
   "cell_type": "code",
   "execution_count": null,
   "metadata": {},
   "outputs": [],
   "source": []
  },
  {
   "cell_type": "code",
   "execution_count": null,
   "metadata": {},
   "outputs": [],
   "source": []
  },
  {
   "cell_type": "code",
   "execution_count": null,
   "metadata": {},
   "outputs": [],
   "source": []
  },
  {
   "cell_type": "code",
   "execution_count": null,
   "metadata": {},
   "outputs": [],
   "source": []
  },
  {
   "cell_type": "code",
   "execution_count": null,
   "metadata": {},
   "outputs": [],
   "source": []
  },
  {
   "cell_type": "code",
   "execution_count": null,
   "metadata": {},
   "outputs": [],
   "source": []
  }
 ],
 "metadata": {
  "kernelspec": {
   "display_name": "Python 3",
   "language": "python",
   "name": "python3"
  },
  "language_info": {
   "codemirror_mode": {
    "name": "ipython",
    "version": 3
   },
   "file_extension": ".py",
   "mimetype": "text/x-python",
   "name": "python",
   "nbconvert_exporter": "python",
   "pygments_lexer": "ipython3",
   "version": "3.8.3"
  }
 },
 "nbformat": 4,
 "nbformat_minor": 4
}
